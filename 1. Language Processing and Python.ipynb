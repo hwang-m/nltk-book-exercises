{
 "cells": [
  {
   "cell_type": "code",
   "execution_count": 1,
   "metadata": {},
   "outputs": [
    {
     "name": "stdout",
     "output_type": "stream",
     "text": [
      "*** Introductory Examples for the NLTK Book ***\n",
      "Loading text1, ..., text9 and sent1, ..., sent9\n",
      "Type the name of the text or sentence to view it.\n",
      "Type: 'texts()' or 'sents()' to list the materials.\n",
      "text1: Moby Dick by Herman Melville 1851\n",
      "text2: Sense and Sensibility by Jane Austen 1811\n",
      "text3: The Book of Genesis\n",
      "text4: Inaugural Address Corpus\n",
      "text5: Chat Corpus\n",
      "text6: Monty Python and the Holy Grail\n",
      "text7: Wall Street Journal\n",
      "text8: Personals Corpus\n",
      "text9: The Man Who Was Thursday by G . K . Chesterton 1908\n"
     ]
    }
   ],
   "source": [
    "from nltk.book import *\n",
    "import matplotlib.pyplot as plt"
   ]
  },
  {
   "cell_type": "markdown",
   "metadata": {},
   "source": [
    "1. ☼ Try using the Python interpreter as a calculator, and typing expressions like 12 / (4 + 1)."
   ]
  },
  {
   "cell_type": "code",
   "execution_count": 2,
   "metadata": {},
   "outputs": [
    {
     "data": {
      "text/plain": [
       "2.4"
      ]
     },
     "execution_count": 2,
     "metadata": {},
     "output_type": "execute_result"
    }
   ],
   "source": [
    "12 / (4 + 1)"
   ]
  },
  {
   "cell_type": "markdown",
   "metadata": {},
   "source": [
    "2. ☼ Given an alphabet of 26 letters, there are 26 to the power 10, or 26 ** 10, ten-letter strings we can form. That works out to  141167095653376. How many hundred-letter strings are possible?"
   ]
  },
  {
   "cell_type": "code",
   "execution_count": 3,
   "metadata": {},
   "outputs": [
    {
     "data": {
      "text/plain": [
       "3142930641582938830174357788501626427282669988762475256374173175398995908420104023465432599069702289330964075081611719197835869803511992549376"
      ]
     },
     "execution_count": 3,
     "metadata": {},
     "output_type": "execute_result"
    }
   ],
   "source": [
    "26 ** 100"
   ]
  },
  {
   "cell_type": "markdown",
   "metadata": {},
   "source": [
    "3. ☼ The Python multiplication operation can be applied to lists. What happens when you type ['Monty', 'Python'] * 20, or 3 * sent1?"
   ]
  },
  {
   "cell_type": "code",
   "execution_count": 4,
   "metadata": {},
   "outputs": [
    {
     "name": "stdout",
     "output_type": "stream",
     "text": [
      "['Call', 'me', 'Ishmael', '.', 'Call', 'me', 'Ishmael', '.', 'Call', 'me', 'Ishmael', '.']\n"
     ]
    }
   ],
   "source": [
    "print(3 * sent1)"
   ]
  },
  {
   "cell_type": "markdown",
   "metadata": {},
   "source": [
    "4. ☼ Review [1](https://www.nltk.org/book/ch01.html#sec-computing-with-language-texts-and-words) on computing with language. How many words are there in text2? How many distinct words are there?"
   ]
  },
  {
   "cell_type": "code",
   "execution_count": 5,
   "metadata": {},
   "outputs": [
    {
     "name": "stdout",
     "output_type": "stream",
     "text": [
      "There are 141576 words and 6833 distinct words in text2\n"
     ]
    }
   ],
   "source": [
    "print('There are {} words and {} distinct words in text2'.format(len(text2), len(set(text2))))"
   ]
  },
  {
   "cell_type": "markdown",
   "metadata": {},
   "source": [
    "5. ☼ Compare the lexical diversity scores for humor and romance fiction in [1.1](https://www.nltk.org/book/ch01.html#tab-brown-types). Which genre is more lexically diverse?"
   ]
  },
  {
   "cell_type": "markdown",
   "metadata": {},
   "source": [
    "Humor is more lexically diverse."
   ]
  },
  {
   "cell_type": "markdown",
   "metadata": {},
   "source": [
    "6. ☼ Produce a dispersion plot of the four main protagonists in Sense and Sensibility: Elinor, Marianne, Edward, and Willoughby. What can you observe about the different roles played by the males and females in this novel? Can you identify the couples?"
   ]
  },
  {
   "cell_type": "code",
   "execution_count": 6,
   "metadata": {},
   "outputs": [
    {
     "data": {
      "image/png": "[encoded data removed]",
      "text/plain": [
       "<Figure size 432x288 with 1 Axes>"
      ]
     },
     "metadata": {
      "needs_background": "light"
     },
     "output_type": "display_data"
    }
   ],
   "source": [
    "text2.dispersion_plot(['Elinor', 'Marianne', 'Edward', 'Willoughby'])"
   ]
  },
  {
   "cell_type": "markdown",
   "metadata": {},
   "source": [
    "The female characters play much more important roles than the male characters. Elinor and Edward are a couple. Marianne and Willoughby are a couple. Since there are parts in the middle and at the end where Edward appears a lot, but Marianne doesn't."
   ]
  },
  {
   "cell_type": "markdown",
   "metadata": {},
   "source": [
    "7. ☼ Find the collocations in text5."
   ]
  },
  {
   "cell_type": "code",
   "execution_count": 7,
   "metadata": {},
   "outputs": [
    {
     "name": "stdout",
     "output_type": "stream",
     "text": [
      "wanna chat; PART JOIN; MODE #14-19teens; JOIN PART; PART PART;\n",
      "cute.-ass MP3; MP3 player; JOIN JOIN; times .. .; ACTION watches; guys\n",
      "wanna; song lasts; last night; ACTION sits; -...)...- S.M.R.; Lime\n",
      "Player; Player 12%; dont know; lez gurls; long time\n"
     ]
    }
   ],
   "source": [
    "text5.collocations()"
   ]
  },
  {
   "cell_type": "markdown",
   "metadata": {},
   "source": [
    "8. ☼ Consider the following Python expression: len(set(text4)). State the purpose of this expression. Describe the two steps involved in performing this computation."
   ]
  },
  {
   "cell_type": "markdown",
   "metadata": {},
   "source": [
    "`len(set(text4))` computes the number of distinct words in text4. It first creats a set of unique words in text4, then computes its length."
   ]
  },
  {
   "cell_type": "markdown",
   "metadata": {},
   "source": [
    "9. ☼ Review [2](https://www.nltk.org/book/ch01.html#sec-a-closer-look-at-python-texts-as-lists-of-words) on lists and strings.\n",
    "\n",
    "  1. Define a string and assign it to a variable, e.g., my_string = 'My String' (but put something more interesting in the string). Print the contents of this variable in two ways, first by simply typing the variable name and pressing enter, then by using the print statement.\n",
    "  1. Try adding the string to itself using my_string + my_string, or multiplying it by a number, e.g., my_string * 3. Notice that the strings are joined together without any spaces. How could you fix this?\n"
   ]
  },
  {
   "cell_type": "code",
   "execution_count": 8,
   "metadata": {},
   "outputs": [
    {
     "data": {
      "text/plain": [
       "'Peanuts are delicious'"
      ]
     },
     "execution_count": 8,
     "metadata": {},
     "output_type": "execute_result"
    }
   ],
   "source": [
    "my_string = 'Peanuts are delicious'\n",
    "my_string"
   ]
  },
  {
   "cell_type": "code",
   "execution_count": 9,
   "metadata": {},
   "outputs": [
    {
     "name": "stdout",
     "output_type": "stream",
     "text": [
      "Peanuts are delicious\n"
     ]
    }
   ],
   "source": [
    "print(my_string)"
   ]
  },
  {
   "cell_type": "code",
   "execution_count": 10,
   "metadata": {},
   "outputs": [
    {
     "data": {
      "text/plain": [
       "'Peanuts are deliciousPeanuts are delicious'"
      ]
     },
     "execution_count": 10,
     "metadata": {},
     "output_type": "execute_result"
    }
   ],
   "source": [
    "my_string + my_string"
   ]
  },
  {
   "cell_type": "code",
   "execution_count": 11,
   "metadata": {},
   "outputs": [
    {
     "data": {
      "text/plain": [
       "'Peanuts are delicious Peanuts are delicious'"
      ]
     },
     "execution_count": 11,
     "metadata": {},
     "output_type": "execute_result"
    }
   ],
   "source": [
    "my_string + ' ' + my_string"
   ]
  },
  {
   "cell_type": "markdown",
   "metadata": {},
   "source": [
    "10. ☼ Define a variable my_sent to be a list of words, using the syntax my_sent = \\[\"My\", \"sent\"\\] (but with your own words, or a favorite saying).\n",
    "\n",
    "  1. Use ' '.join(my_sent) to convert this into a string.\n",
    "  1. Use split() to split the string back into the list form you had to start with."
   ]
  },
  {
   "cell_type": "code",
   "execution_count": 12,
   "metadata": {},
   "outputs": [
    {
     "data": {
      "text/plain": [
       "'This is an interesting sentence .'"
      ]
     },
     "execution_count": 12,
     "metadata": {},
     "output_type": "execute_result"
    }
   ],
   "source": [
    "my_sent = ['This', 'is', 'an', 'interesting', 'sentence', '.']\n",
    "my_str = ' '.join(my_sent)\n",
    "my_str"
   ]
  },
  {
   "cell_type": "code",
   "execution_count": 13,
   "metadata": {},
   "outputs": [
    {
     "data": {
      "text/plain": [
       "['This', 'is', 'an', 'interesting', 'sentence', '.']"
      ]
     },
     "execution_count": 13,
     "metadata": {},
     "output_type": "execute_result"
    }
   ],
   "source": [
    "my_str.split()"
   ]
  },
  {
   "cell_type": "markdown",
   "metadata": {},
   "source": [
    "11. ☼ Define several variables containing lists of words, e.g., phrase1, phrase2, and so on. Join them together in various combinations (using the plus operator) to form whole sentences. What is the relationship between len(phrase1 + phrase2) and len(phrase1) + len(phrase2)?"
   ]
  },
  {
   "cell_type": "code",
   "execution_count": 14,
   "metadata": {},
   "outputs": [
    {
     "data": {
      "text/plain": [
       "True"
      ]
     },
     "execution_count": 14,
     "metadata": {},
     "output_type": "execute_result"
    }
   ],
   "source": [
    "phrase1 = ['My', 'sister', 'has']\n",
    "phrase2 = ['a', 'cat', 'named', 'Linus.']\n",
    "len(phrase1 + phrase2) == len(phrase1) + len(phrase2)"
   ]
  },
  {
   "cell_type": "markdown",
   "metadata": {},
   "source": [
    "12. ☼ Consider the following two expressions, which have the same value. Which one will typically be more relevant in NLP? Why?\n",
    "\n",
    "  1. \"Monty Python\"\\[6:12\\]\n",
    "  1. \\[\"Monty\", \"Python\"\\]\\[1\\]"
   ]
  },
  {
   "cell_type": "markdown",
   "metadata": {},
   "source": [
    "B will typically be more relevant. Because in NLP we deal with complete words more than single characters."
   ]
  },
  {
   "cell_type": "markdown",
   "metadata": {},
   "source": [
    "13. ☼ We have seen how to represent a sentence as a list of words, where each word is a sequence of characters. What does sent1\\[2\\]\\[2\\] do? Why? Experiment with other index values."
   ]
  },
  {
   "cell_type": "markdown",
   "metadata": {},
   "source": [
    "`sent1[2][2]` prints the third letter in the third word of sent1."
   ]
  },
  {
   "cell_type": "markdown",
   "metadata": {},
   "source": [
    "14. ☼ The first sentence of text3 is provided to you in the variable sent3. The index of *the* in sent3 is 1, because sent3\\[1\\] gives us 'the'. What are the indexes of the two other occurrences of this word in sent3?"
   ]
  },
  {
   "cell_type": "code",
   "execution_count": 15,
   "metadata": {},
   "outputs": [
    {
     "name": "stdout",
     "output_type": "stream",
     "text": [
      "[1, 5, 8]\n"
     ]
    }
   ],
   "source": [
    "ans = []\n",
    "i = 0\n",
    "while True:\n",
    "    try:\n",
    "        index = sent3[i:].index('the') + i\n",
    "        ans.append(index)\n",
    "        i = index + 1\n",
    "    except ValueError:\n",
    "        break\n",
    "print(ans)"
   ]
  },
  {
   "cell_type": "code",
   "execution_count": 16,
   "metadata": {},
   "outputs": [
    {
     "name": "stdout",
     "output_type": "stream",
     "text": [
      "['In', 'the', 'beginning', 'God', 'created', 'the', 'heaven', 'and', 'the', 'earth', '.']\n"
     ]
    }
   ],
   "source": [
    "# check answer\n",
    "print(sent3)"
   ]
  },
  {
   "cell_type": "markdown",
   "metadata": {},
   "source": [
    "15. ☼ Review the discussion of conditionals in [4](https://www.nltk.org/book/ch01.html#sec-making-decisions). Find all words in the Chat Corpus (text5) starting with the letter b. Show them in alphabetical order."
   ]
  },
  {
   "cell_type": "code",
   "execution_count": 17,
   "metadata": {},
   "outputs": [
    {
     "name": "stdout",
     "output_type": "stream",
     "text": [
      "['b', 'b-day', 'b/c', 'b4', 'babay', 'babble', 'babblein', 'babe', 'babes', 'babi', 'babies', 'babiess', 'baby', 'babycakeses', 'bachelorette', 'back', 'backatchya', 'backfrontsidewaysandallaroundtheworld', 'backroom', 'backup', 'bacl', 'bad', 'bag', 'bagel', 'bagels', 'bahahahaa', 'bak', 'baked', 'balad', 'balance', 'balck', 'ball', 'ballin', 'balls', 'ban', 'band', 'bandito', 'bandsaw', 'banjoes', 'banned', 'baord', 'bar', 'barbie', 'bare', 'barely', 'bares', 'barfights', 'barks', 'barn', 'barrel', 'base', 'bases', 'basically', 'basket', 'battery', 'bay', 'bbbbbyyyyyyyeeeeeeeee', 'bbiam', 'bbl', 'bbs', 'bc', 'be', 'beach', 'beachhhh', 'beam', 'beams', 'beanbag', 'beans', 'bear', 'bears', 'beat', 'beaten', 'beatles', 'beats', 'beattles', 'beautiful', 'because', 'beckley', 'become', 'bed', 'bedford', 'bedroom', 'beeeeehave', 'beeehave', 'been', 'beer', 'before', 'beg', 'begin', 'behave', 'behind', 'bein', 'being', 'beleive', 'believe', 'belive', 'bell', 'belly', 'belong', 'belongings', 'ben', 'bend', 'benz', 'bes', 'beside', 'besides', 'best', 'bet', 'betrayal', 'betta', 'better', 'between', 'beuty', 'bf', 'bi', 'biatch', 'bible', 'biebsa', 'bied', 'big', 'bigest', 'biggest', 'biiiatch', 'bike', 'bikes', 'bikini', 'bio', 'bird', 'birfday', 'birthday', 'bisexual', 'bishes', 'bit', 'bitch', 'bitches', 'bitdh', 'bite', 'bites', 'biyatch', 'biz', 'bj', 'black', 'blade', 'blah', 'blank', 'blankie', 'blazed', 'bleach', 'blech', 'bless', 'blessings', 'blew', 'blind', 'blinks', 'bliss', 'blocking', 'bloe', 'blood', 'blooded', 'bloody', 'blow', 'blowing', 'blowjob', 'blowup', 'blue', 'blueberry', 'bluer', 'blues', 'blunt', 'board', 'bob', 'bodies', 'body', 'boed', 'boght', 'boi', 'boing', 'boinked', 'bois', 'bomb', 'bone', 'boned', 'bones', 'bong', 'boning', 'bonus', 'boo', 'booboo', 'boobs', 'book', 'boom', 'boooooooooooglyyyyyy', 'boost', 'boot', 'bootay', 'booted', 'boots', 'booty', 'border', 'borderline', 'bored', 'boredom', 'boring', 'born', 'born-again', 'bosom', 'boss', 'bossy', 'bot', 'both', 'bother', 'bothering', 'bottle', 'bought', 'bounced', 'bouncer', 'bouncers', 'bound', 'bout', 'bouts', 'bow', 'bowl', 'box', 'boy', 'boyfriend', 'boys', 'bra', 'brad', 'brady', 'brain', 'brakes', 'brass', 'brat', 'brb', 'brbbb', 'bread', 'break', 'breaks', 'breath', 'breathe', 'bred', 'breeding', 'bright', 'brightened', 'bring', 'brings', 'bro', 'broke', 'brooklyn', 'brother', 'brothers', 'brought', 'brown', 'brrrrrrr', 'bruises', 'brunswick', 'brwn', 'btw', 'bucks', 'buddyyyyyy', 'buff', 'buffalo', 'bug', 'bugs', 'buh', 'build', 'builds', 'built', 'bull', 'bulls', 'bum', 'bumber', 'bummer', 'bumped', 'bumper', 'bunch', 'bunny', 'burger', 'burito', 'burned', 'burns', 'burp', 'burpin', 'burps', 'burried', 'burryed', 'bus', 'buses', 'bust', 'busted', 'busy', 'but', 'butt', 'butter', 'butterscotch', 'button', 'buttons', 'buy', 'buying', 'bwahahahahahahahahahaha', 'by', 'byb', 'bye', 'byeee', 'byeeee', 'byeeeeeeee', 'byeeeeeeeeeeeee', 'byes']\n"
     ]
    }
   ],
   "source": [
    "print(sorted(set(word for word in text5 if word.startswith('b'))))"
   ]
  },
  {
   "cell_type": "markdown",
   "metadata": {},
   "source": [
    "16. ☼ Type the expression list(range(10)) at the interpreter prompt. Now try list(range(10, 20)),  list(range(10, 20, 2)), and list(range(20, 10, -2)). We will see a variety of uses for this built-in function in later chapters."
   ]
  },
  {
   "cell_type": "code",
   "execution_count": 18,
   "metadata": {},
   "outputs": [
    {
     "name": "stdout",
     "output_type": "stream",
     "text": [
      "[0, 1, 2, 3, 4, 5, 6, 7, 8, 9]\n",
      "[10, 11, 12, 13, 14, 15, 16, 17, 18, 19]\n",
      "[10, 12, 14, 16, 18]\n",
      "[20, 18, 16, 14, 12]\n"
     ]
    }
   ],
   "source": [
    "print(list(range(10)))\n",
    "print(list(range(10, 20)))\n",
    "print(list(range(10, 20, 2)))\n",
    "print(list(range(20, 10, -2)))"
   ]
  },
  {
   "cell_type": "markdown",
   "metadata": {},
   "source": [
    "17. ◑ Use text9.index() to find the index of the word sunset. You'll need to insert this word as an argument between the parentheses. By a process of trial and error, find the slice for the complete sentence that contains this word."
   ]
  },
  {
   "cell_type": "code",
   "execution_count": 19,
   "metadata": {},
   "outputs": [
    {
     "data": {
      "text/plain": [
       "629"
      ]
     },
     "execution_count": 19,
     "metadata": {},
     "output_type": "execute_result"
    }
   ],
   "source": [
    "text9.index('sunset')"
   ]
  },
  {
   "cell_type": "code",
   "execution_count": 20,
   "metadata": {},
   "outputs": [
    {
     "name": "stdout",
     "output_type": "stream",
     "text": [
      "['THE', 'suburb', 'of', 'Saffron', 'Park', 'lay', 'on', 'the', 'sunset', 'side', 'of', 'London', ',', 'as', 'red', 'and', 'ragged', 'as', 'a', 'cloud', 'of', 'sunset', '.']\n"
     ]
    }
   ],
   "source": [
    "print(text9[621:644])"
   ]
  },
  {
   "cell_type": "markdown",
   "metadata": {},
   "source": [
    "18. ◑ Using list addition, and the set and sorted operations, compute the vocabulary of the sentences sent1 ... sent8."
   ]
  },
  {
   "cell_type": "code",
   "execution_count": 21,
   "metadata": {},
   "outputs": [
    {
     "name": "stdout",
     "output_type": "stream",
     "text": [
      "['!', ',', '-', '.', '1', '25', '29', '61', ':', 'ARTHUR', 'Call', 'Citizens', 'Dashwood', 'Fellow', 'God', 'House', 'I', 'In', 'Ishmael', 'JOIN', 'KING', 'MALE', 'Nov.', 'PMing', 'Pierre', 'Representatives', 'SCENE', 'SEXY', 'Senate', 'Sussex', 'The', 'Vinken', 'Whoa', '[', ']', 'a', 'and', 'as', 'attrac', 'been', 'beginning', 'board', 'clop', 'created', 'director', 'discreet', 'earth', 'encounters', 'family', 'for', 'had', 'have', 'heaven', 'in', 'join', 'lady', 'lol', 'long', 'me', 'nonexecutive', 'of', 'old', 'older', 'people', 'problem', 'seeks', 'settled', 'single', 'the', 'there', 'to', 'will', 'wind', 'with', 'years']\n"
     ]
    }
   ],
   "source": [
    "print(sorted(set(sent1 + sent2 + sent3 + sent4 + sent5 + sent6 + sent7 + sent8)))"
   ]
  },
  {
   "cell_type": "markdown",
   "metadata": {},
   "source": [
    "19. ◑ What is the difference between the following two lines? Which one will give a larger value? Will this be the case for other texts?\n",
    "\n",
    "```\n",
    "sorted(set(w.lower() for w in text1))\n",
    "sorted(w.lower() for w in set(text1))\n",
    "```"
   ]
  },
  {
   "cell_type": "markdown",
   "metadata": {},
   "source": [
    "The second one will give a larger(>=) value since the same word in different cases (e.g. THE, The, and the) are counted multiple times before converted to lower case. \n",
    "\n",
    "In the first one, they are converted to the same lower case word and will only be counted once."
   ]
  },
  {
   "cell_type": "markdown",
   "metadata": {},
   "source": [
    "20. ◑ What is the difference between the following two tests: w.isupper() and not w.islower()?"
   ]
  },
  {
   "cell_type": "markdown",
   "metadata": {},
   "source": [
    "`w.isupper()` returns True only for upper case strings, and False for everything else.\n",
    "`not w.islower()` returns True for upper case strings and all other strings whose letters are not entirely lower case, and False for lower case strings.\n",
    "\n",
    "For example, `'The Earth and other planets'.isupper()` is `False`, while `not 'The Earth and other planets'.islower()` is `True`."
   ]
  },
  {
   "cell_type": "code",
   "execution_count": 22,
   "metadata": {},
   "outputs": [
    {
     "data": {
      "text/plain": [
       "False"
      ]
     },
     "execution_count": 22,
     "metadata": {},
     "output_type": "execute_result"
    }
   ],
   "source": [
    "'The Earth and other planets'.isupper()"
   ]
  },
  {
   "cell_type": "code",
   "execution_count": 23,
   "metadata": {},
   "outputs": [
    {
     "data": {
      "text/plain": [
       "True"
      ]
     },
     "execution_count": 23,
     "metadata": {},
     "output_type": "execute_result"
    }
   ],
   "source": [
    "not 'The Earth and other planets'.islower()"
   ]
  },
  {
   "cell_type": "markdown",
   "metadata": {},
   "source": [
    "21. ◑ Write the slice expression that extracts the last two words of  text2."
   ]
  },
  {
   "cell_type": "code",
   "execution_count": 24,
   "metadata": {},
   "outputs": [
    {
     "data": {
      "text/plain": [
       "['THE', 'END']"
      ]
     },
     "execution_count": 24,
     "metadata": {},
     "output_type": "execute_result"
    }
   ],
   "source": [
    "text2[-2:]"
   ]
  },
  {
   "cell_type": "markdown",
   "metadata": {},
   "source": [
    "22. ◑ Find all the four-letter words in the Chat Corpus (text5). With the help of a frequency distribution (FreqDist), show these words in decreasing order of frequency."
   ]
  },
  {
   "cell_type": "code",
   "execution_count": 25,
   "metadata": {},
   "outputs": [
    {
     "name": "stdout",
     "output_type": "stream",
     "text": [
      "['JOIN', 'PART', 'that', 'what', 'here', '....', 'have', 'like', 'with', 'chat', 'your', 'good', 'just', 'lmao', 'know', 'room', 'from', 'this', 'well', 'back', 'hiya', 'they', 'dont', 'yeah', 'want', 'love', 'guys', 'some', 'been', 'talk', 'nice', 'time', 'when', 'haha', 'make', 'girl', 'need', 'U122', 'MODE', 'will', 'much', 'then', 'over', 'work', 'were', 'take', 'U121', 'U115', 'song', 'even', 'does', 'seen', 'U156', 'U105', 'more', 'damn', 'only', 'come', 'hell', 'long', 'them', 'name', 'tell', 'away', 'sure', 'look', 'baby', 'call', 'play', 'U110', 'U114', 'NICK', 'down', 'cool', 'sexy', 'many', 'hate', 'said', 'last', 'ever', 'hear', 'life', 'live', 'feel', 'very', 'mean', 'give', 'same', 'must', 'stop', 'LMAO', '!!!!', 'hugs', 'What', 'find', 'cant', 'left', '????', 'shit', 'nite', 'busy', 'hair', 'lost', 'U104', 'fine', 'real', 'game', 'fuck', 'sits', 'eyes', 'lets', 'heya', 'kill', 'read', 'shut', 'wait', 'goes', 'keep', 'true', 'pick', 'free', 'else', 'near', 'nope', 'U168', 'hope', 'head', 'male', 'than', 'gets', 'cold', 'hehe', 'bout', 'stay', 'used', 'awww', 'told', 'This', 'U102', 'doin', 'kids', 'perv', 'wont', 'face', 'home', 'year', 'babe', 'into', 'yall', '.. .', 'U119', 'U107', 'hard', 'show', 'U101', 'once', 'Well', 'help', 'mind', 'Yeah', 'week', 'Liam', 'U132', 'pics', 'such', 'type', 'best', 'neck', 'dang', 'dead', 'runs', 'aint', 'rock', 'days', 'mine', 'book', 'crap', 'soon', 'care', 'full', 'kiss', 'hour', 'nick', 'sick', '; ..', 'hmmm', 'U139', 'word', 'heyy', 'case', 'wana', 'hows', 'went', 'lady', 'blue', 'says', 'suck', 'made', 'wife', 'sang', 'U144', 'fast', 'rule', 'dude', 'okay', 'alot', 'hand', 'took', 'wear', 'Hiya', 'kick', 'ahhh', 'dear', 'That', 'U108', 'U169', 'U129', 'U116', 'most', 'thru', 'U165', 'list', 'seem', 'sing', 'next', 'done', 'ride', 'comp', 'main', '))))', 'goin', 'U520', 'pink', 'poor', 'gone', 'oops', 'knew', '<---', 'ball', 'send', 'Song', 'blah', 'They', 'part', 'U103', 'U120', 'Last', 'whos', 'food', 'U142', 'sock', 'U197', 'legs', 'fire', 'warm', 'late', 'hang', 'miss', 'boys', 'land', 'nose', 'lick', 'caps', 'wish', 'U128', 'came', 'cali', 'roll', 'easy', 'lose', 'When', 'soul', 'luck', 'also', 'kool', 'fall', 'boss', 'beer', 'ohhh', '####', 'wall', 'Have', 'meet', 'till', 'feet', 'xbox', 'idea', 'heck', 'joke', 'fool', 'felt', 'yoko', 'meds', 'both', 'Lime', 'glad', 'U133', 'U126', 'jerk', 'ugly', 'date', 'ummm', 'quit', 'rest', 'door', 'none', 'self', 'pass', 'line', 'cute', 'holy', 'hook', 'Like', 'each', 'open', 'high', 'ouch', 'evil', 'fart', 'grrr', 'pain', 'pfft', 'sigh', 'shes', 'ROOM', ',,,,', 'lord', 'mmmm', 'ones', 'huge', 'woot', 'shot', 'team', 'ways', 'beat', 'kent', 'U130', 'U196', 'U219', 'turn', 'lame', 'U123', 'U154', 'U988', 'puff', 'U146', 'U989', 'U117', 'U819', 'U820', 'clap', 'itch', 'guyz', 'U136', 'gold', 'ring', 'isnt', 'U141', 'Only', 'U148', 'Your', 'deal', 'wash', 'U109', 'piff', 'jump', 'band', 'orgy', 'slap', 'soft', 'bend', 'toss', 'amen', 'rain', 'deop', 'roof', '((((', 'CHAT', 'ahem', 'hola', 'butt', 'imma', 'town', 'hawt', '2006', 'Elev', 'Wind', 'AKDT', 'lead', 'DING', 'note', 'gawd', 'half', 'mary', 'ello', 'hick', 'wine', 'hiii', 'bare', 'vote', 'Same', 'wack', 'snow', 'hurt', 'move', 'road', 'walk', 'yawn', 'hail', 'nana', 'U106', 'hump', 'elle', 'yada', 'tune', 'hank', 'slow', 'rubs', 'skin', 'died', 'U145', 'swim', 'U163', 'army', 'THAT', 'wazz', 'toes', 'U153', 'golf', 'drew', 'cast', 'Days', 'opps', 'U138', 'plan', 'Just', 'deaf', 'deep', 'phil', 'hmph', 'U155', 'Poor', 'Lies', 'bite', 'mins', 'eats', '>:->', 'cell', 'cmon', 'wats', 'kind', 'mike', 'whoa', 'dumb', 'park', 'Sure', 'Come', 'O.k.', 'mama', 'Nice', 'hold', 'ohio', 'whip', 'twin', 'burp', 'blew', 'temp', 'corn', 'pool', 'cash', 'ears', 'From', 'porn', 'heal', 'Dang', 'ciao', 'DOES', 'typo', 'Stop', 'eric', 'Drew', 'sore', 'Live', 'High', 'hits', 'KoOL', 'past', 'Love', 'meat', '!!!.', 'argh', 'limp', 'rent', 'cars', 'Tell', 'shop', 'U172', 'five', 'sell', '<<<<', 'city', 'yard', 'grrl', 'chip', 'bear', 'foot', 'uses', 'DONT', 'sort', 'lies', 'whud', 'hott', 'Down', 'Lets', 'club', 'adds', 'Here', 'born', 'wOOt', 'area', '?!?!', 'Ohio', 'U112', 'humm', 'newp', 'gays', 'zone', 'hint', 'spin', 'ewww', 'pies', 'doll', 'drop', 'gimp', 'spot', 'ages', 'clue', 'mass', 'Ummm', 'Gosh', 'flow', 'kewl', 'hall', 'haze', '1996', 'John', 'john', 'sooo', 'cost', 'trip', 'babi', 'rich', 'U100', 'n9ne', 'Ahhh', '??!!', 'U111', 'moon', 'STOP', 'any1', 'yeas', 'wooo', '<333', 'tick', 'tock', 'WITH', 'FROM', 'side', 'Heyy', 'howz', \"ex's\", 'Cool', 'U170', 'U175', 'root', 'tyvm', 'luvs', 'fits', 'rofl', 'sand', 'ltns', 'flaw', 'aunt', 'lawl', 'Okay', 'HAVE', 'NONE', 'YOUR', 'Lmao', 'Tisk', 'U190', 'tisk', 'draw', 'docs', 'Slip', 'Fade', 'bowl', 'bong', 'ogan', 'cams', 'gooo', 'yeee', 'ahah', 'jeep', 'Deep', 'Show', 'Turn', 'Hand', 'VBox', 'ELSE', 'serg', 'bein', 'whys', 'tape', 'sexs', 'form', 'HUGE', 'nads', 'owww', 'gags', 'Meep', 'LAst', \"pm's\", '1.99', 'lool', 'kina', 'sext', 'lazy', 'calm', 'arms', 'smax', 'VVil', 'este', 'chik', 'Boyz', 'coat', 'Eyes', 'Dawn', 'LIVE', 'mauh', 'ques', '4.20', 'gosh', 'ruff', 'mame', 'nada', 'push', 'prob', 'wild', 'whew', 'dark', 'waht', 'test', 'boot', 'hiom', 'HAHA', 'dman', 'jail', 'cops', 'hogs', 'peek', 'MORE', 'TIME', 'loud', 'o.k.', 'Sexy', 'Ctrl', 'hots', 'Need', 'frst', '1200', 'crop', 'bomb', 'Pour', 'pour', 'Swim', 'Hard', 'eeek', 'tjhe', '10th', 'heee', 'peel', 'fock', 'Kold', 'exit', 'kold', '3:45', 'MRIs', 'buff', 'plus', 'tory', 'knee', 'OOPS', 'oooh', 'lala', 'fake', 'ssid', 'poot', 'poop', 'bird', 'plow', 'thnx', 'card', 'Hugs', 'Lord', 'uyes', 'benz', '<~~~', 'disc', 'LONG', 'Been', 'Will', 'bloe', 'blow', 'hooo', 'thje', 'Jess', 'term', 'Tina', 'ooer', 'HALO', 'Awww', 'anal', 'Drop', 'dojn', 'wubs', 'mkay', 'spat', 'gees', 'hawT', 'yes.', 'puts', 'fish', 'size', '39.3', '1980', '64.8', 'syck', 'tere', 'U542', 'sent', '45.5', '98.5', '1299', '1900', '1930', 'Werd', 'Rofl', 'mode', 'nawt', 'sign', 'woof', 'sum1', 'ghet', 'brad', 'offa', 'Dood', 'out.', 'LOUD', 'sink', 'FINE', 'cums', 'loss', 'Life', 'Damn', 'wrap', 'hide', \"PM's\", 'Talk', 'okey', 'worl', 'Hold', 'cepn', 'lots', 'Mary', 'nawp', 'addy', 'lake', 'slip', 'mite', 'wood', 'orta', 'wins', 'ebay', 'coem', 'giva', '1.98', 'ally', 'Judy', 'cyas', 'shup', 'tooo', \"pm'n\", 'choc', 'wher', 'whoo', 'dint', 'tend', 'menu', 'lust', 'nods', 'NAME', 'kept', 'scuk', 'raed', 'Then', 'bugs', 'nerd', 'Hill', 'Evil', 'saME', '2Pac', 'Time', 'pimp', 'haaa', '98.6', \"it's\", 'Mono', 'mono', 'Bone', 'Hero', 'Came', '.op.', 'Hott', 'Joey', 'Jane', 'span', 'wore', 'QUIT', 'pasa', 'barn', 'Kick', 'feat', 'Back', 'dork', 'laid', 'Home', 'herd', 'Born', 'Away', 'Tide', 'jush', 'Cute', 'GrlZ', 'lung', 'SOME', 'Lion', 'brat', ':o *', 'MUAH', 'fawk', 'dust', 'Help', 'seth', 'Heya', 'bone', 'abou', 'tthe', 'Even', 'herE', 'Hail', 'halo', 'pork', '1cos', \"yw's\", 'mark', 'dotn', 'PMSL', 'pmsl', 'gift', 'outs', 'Paul', 'outa', 'York', 'Care', 'Chat', 'fear', 'dies', 'givs', 'bust', 'xmas', 'enuf', 'LoVe', 'eeww', 'dick', 'fair', 'lyin', 'lois', 'cuss', 'LATE', 'THEY', 'GOOD', 'rape', 'geez', 'tart', 'hgey', 'caan', 'lol.', 'Elle', 'nude', 'allo', 'yesh', 'wind', 'Reub', '!???', 'heat', 'kmph', 'pope', 'yess', '!...', 'duet', 'wuts', 'west', 'quiz', 'scar', 'Girl', 'pair', 'Rang', 'rang', 'bell', 'dawg', 'febe', 'Prof', 'Kewl', 'jude', 'Yoko', 'seee', 'whou', 'idnt', 'perk', 'http', '2DAY', 'yell', 'mang', 'SSRI', 'cure', 'wean', 'post', 'anti', 'noth', 'tall', 'pray', 'weed', 'icky', 'Rick', 'spit', 'lube', 'mami', 'east', '18ST', 'seat', 'cock', 'SExy', 'otay', 'firs', 'site', 'U113', 'dump', 'toop', 'four', 'U118', 'sets', 'asss', 'paid', 'Iowa', 'Teck', '\"...', 'jeff', 'crib', 'drug', 'cook', '9:10', 'ladz', 'aime', 'hong', 'kong', 'Oops', 'tits', 'gret', 'guns', 'inch', 'sean', 'howl', 'Take', 'z-ro', 'U137', 'Haha', '1985', 'slam', 'pine', 'puke', 'waaa', 'urls', 'star', 'Save', 'teck', 'Room', 'sori', 'Long', 'poem', 'jack', 'Rule', 'CAPS', 'junk', 'tips', 'rush', 'Nooo', 'Troy', 'tail', 'Seee', '6:38', 'dyed', 't he', 'beam', 'daft', 'twit', 'scum', 'U134', 'Type', 'WHOA', 'toke', 'ribs', 'Eggs', 'Wyte', 'moms', 'Over', 'West', 'Rock', 'goof', 'U143', 'able', 'vamp', 'Nope', 'Kent', 'ther', 'U147', 'TEXT', 'SIZE', 'gear', 'CALI', 'Matt', 'Rush', 'AWAY', 'NTMN', 'Kiss', 'U158', 'grea', 'Look', 'guts', 'wrek', 'Fort', '2:55', 'AKST', '4:03', 'wire', 'soda', 'gray', 'tlak', 'ltnc', \"ok'd\", 'sayn', 'evah', 'bike', 'hill', 'ohwa', 'caca', 'prep', 'pull', 'dirt', 'vent', '100%', 'safe', 'dogs', 'bull', 'asks', 'Road', 'chit', 'grin', 'bred', 'rats', 'Sat.', 'samn', 'Phil', 'nuff', 'rose', 'Ruth', 'grew', 'mena', 'ROFL', 'lapd', 'surf', 'City', 'hazy', 'thot', 'acid', 'wide', 'keys', 'salt', 'mess', 'base', 'byes', \"RN's\", 'yout', 'numb', 'thah', 'mahn', 'King', 'TALK', 'GIRL', 'WHEN', 'HOTT', 'HERE', 'soup', '6:51', '9.53', 'Mine', 'vega', 'pigs', 'king', 'poof', 'Nova', 'mofo', 'Ohhh', 'Holy', 'sips', 'clay', 'None', 'Male', 'bacl', 'body', 'akon', 'yoll', 'boom', 'News', 'Maps', 'page', 'Tiff', 'Chop', 'DAMN', 'TYPR', 'poll', 'boed', 'Dude', 'Does', 'pwns', 'Very', 'Good', 'Food', 'sexi', 'bois', 'KNOW', 'GUYS', 'YALL', 'EVEN', 'SEEN', 'WILL', 'COME', 'FACE', 'JUST', 'Kids', '6:41', 'bied', '6:53', 'U149', '7:45', 'Uhhh', 'tenn', 'pure', 'U164', 'U150', 'U181', 'gals', 'woah', 'ussy', 'tiff', 'Heys', \"<3's\", 'lisa', 'brwn', 'hurr', 'Were']\n"
     ]
    }
   ],
   "source": [
    "print([word for word, _ in FreqDist(text5).most_common() if len(word) == 4])"
   ]
  },
  {
   "cell_type": "markdown",
   "metadata": {},
   "source": [
    "23. ◑ Review the discussion of looping with conditions in [4](https://www.nltk.org/book/ch01.html#sec-making-decisions). Use a combination of for and if statements to loop over the words of the movie script for Monty Python and the Holy Grail (text6) and print all the uppercase words, one per line."
   ]
  },
  {
   "cell_type": "code",
   "execution_count": 26,
   "metadata": {},
   "outputs": [
    {
     "data": {
      "text/plain": [
       "['SCENE',\n",
       " 'KING',\n",
       " 'ARTHUR',\n",
       " 'SOLDIER',\n",
       " 'ARTHUR',\n",
       " 'I',\n",
       " 'SOLDIER',\n",
       " 'ARTHUR',\n",
       " 'I',\n",
       " 'I',\n",
       " 'SOLDIER',\n",
       " 'ARTHUR',\n",
       " 'SOLDIER',\n",
       " 'ARTHUR',\n",
       " 'SOLDIER',\n",
       " 'ARTHUR',\n",
       " 'SOLDIER',\n",
       " 'ARTHUR',\n",
       " 'SOLDIER',\n",
       " 'ARTHUR',\n",
       " 'SOLDIER',\n",
       " 'ARTHUR',\n",
       " 'SOLDIER',\n",
       " 'ARTHUR',\n",
       " 'SOLDIER',\n",
       " 'A',\n",
       " 'ARTHUR',\n",
       " 'SOLDIER',\n",
       " 'A',\n",
       " 'ARTHUR',\n",
       " 'SOLDIER',\n",
       " 'ARTHUR',\n",
       " 'SOLDIER',\n",
       " 'I',\n",
       " 'ARTHUR',\n",
       " 'I',\n",
       " 'SOLDIER',\n",
       " 'SOLDIER',\n",
       " 'SOLDIER',\n",
       " 'I',\n",
       " 'ARTHUR',\n",
       " 'SOLDIER',\n",
       " 'SOLDIER',\n",
       " 'SOLDIER',\n",
       " 'SOLDIER',\n",
       " 'SOLDIER',\n",
       " 'SOLDIER',\n",
       " 'SOLDIER',\n",
       " 'SOLDIER',\n",
       " 'SCENE',\n",
       " 'CART',\n",
       " 'MASTER',\n",
       " 'CUSTOMER',\n",
       " 'CART',\n",
       " 'MASTER',\n",
       " 'DEAD',\n",
       " 'PERSON',\n",
       " 'I',\n",
       " 'CART',\n",
       " 'MASTER',\n",
       " 'CUSTOMER',\n",
       " 'DEAD',\n",
       " 'PERSON',\n",
       " 'I',\n",
       " 'CART',\n",
       " 'MASTER',\n",
       " 'CUSTOMER',\n",
       " 'DEAD',\n",
       " 'PERSON',\n",
       " 'I',\n",
       " 'CART',\n",
       " 'MASTER',\n",
       " 'CUSTOMER',\n",
       " 'DEAD',\n",
       " 'PERSON',\n",
       " 'I',\n",
       " 'CUSTOMER',\n",
       " 'CART',\n",
       " 'MASTER',\n",
       " 'I',\n",
       " 'DEAD',\n",
       " 'PERSON',\n",
       " 'I',\n",
       " 'CUSTOMER',\n",
       " 'CART',\n",
       " 'MASTER',\n",
       " 'I',\n",
       " 'DEAD',\n",
       " 'PERSON',\n",
       " 'I',\n",
       " 'CUSTOMER',\n",
       " 'CART',\n",
       " 'MASTER',\n",
       " 'I',\n",
       " 'CUSTOMER',\n",
       " 'CART',\n",
       " 'MASTER',\n",
       " 'I',\n",
       " 'CUSTOMER',\n",
       " 'CART',\n",
       " 'MASTER',\n",
       " 'DEAD',\n",
       " 'PERSON',\n",
       " 'I',\n",
       " 'I',\n",
       " 'CUSTOMER',\n",
       " 'DEAD',\n",
       " 'PERSON',\n",
       " 'I',\n",
       " 'I',\n",
       " 'CUSTOMER',\n",
       " 'CART',\n",
       " 'MASTER',\n",
       " 'CUSTOMER',\n",
       " 'CART',\n",
       " 'MASTER',\n",
       " 'I',\n",
       " 'CUSTOMER',\n",
       " 'CART',\n",
       " 'MASTER',\n",
       " 'SCENE',\n",
       " 'ARTHUR',\n",
       " 'DENNIS',\n",
       " 'ARTHUR',\n",
       " 'DENNIS',\n",
       " 'I',\n",
       " 'ARTHUR',\n",
       " 'I',\n",
       " 'DENNIS',\n",
       " 'I',\n",
       " 'I',\n",
       " 'ARTHUR',\n",
       " 'I',\n",
       " 'DENNIS',\n",
       " 'ARTHUR',\n",
       " 'I',\n",
       " 'DENNIS',\n",
       " 'ARTHUR',\n",
       " 'I',\n",
       " 'DENNIS',\n",
       " 'I',\n",
       " 'ARTHUR',\n",
       " 'I',\n",
       " 'DENNIS',\n",
       " 'WOMAN',\n",
       " 'ARTHUR',\n",
       " 'I',\n",
       " 'WOMAN',\n",
       " 'ARTHUR',\n",
       " 'WOMAN',\n",
       " 'ARTHUR',\n",
       " 'I',\n",
       " 'WOMAN',\n",
       " 'I',\n",
       " 'I',\n",
       " 'DENNIS',\n",
       " 'A',\n",
       " 'WOMAN',\n",
       " 'DENNIS',\n",
       " 'ARTHUR',\n",
       " 'I',\n",
       " 'WOMAN',\n",
       " 'ARTHUR',\n",
       " 'WOMAN',\n",
       " 'ARTHUR',\n",
       " 'DENNIS',\n",
       " 'I',\n",
       " 'ARTHUR',\n",
       " 'DENNIS',\n",
       " 'ARTHUR',\n",
       " 'I',\n",
       " 'DENNIS',\n",
       " 'ARTHUR',\n",
       " 'DENNIS',\n",
       " 'ARTHUR',\n",
       " 'I',\n",
       " 'WOMAN',\n",
       " 'ARTHUR',\n",
       " 'I',\n",
       " 'WOMAN',\n",
       " 'I',\n",
       " 'ARTHUR',\n",
       " 'WOMAN',\n",
       " 'ARTHUR',\n",
       " 'I',\n",
       " 'I',\n",
       " 'DENNIS',\n",
       " 'ARTHUR',\n",
       " 'DENNIS',\n",
       " 'ARTHUR',\n",
       " 'DENNIS',\n",
       " 'I',\n",
       " 'I',\n",
       " 'I',\n",
       " 'ARTHUR',\n",
       " 'DENNIS',\n",
       " 'ARTHUR',\n",
       " 'DENNIS',\n",
       " 'I',\n",
       " 'ARTHUR',\n",
       " 'DENNIS',\n",
       " 'I',\n",
       " 'SCENE',\n",
       " 'BLACK',\n",
       " 'KNIGHT',\n",
       " 'BLACK',\n",
       " 'KNIGHT',\n",
       " 'GREEN',\n",
       " 'KNIGHT',\n",
       " 'BLACK',\n",
       " 'KNIGHT',\n",
       " 'GREEN',\n",
       " 'KNIGHT',\n",
       " 'BLACK',\n",
       " 'KNIGHT',\n",
       " 'BLACK',\n",
       " 'KNIGHT',\n",
       " 'GREEN',\n",
       " 'KNIGHT',\n",
       " 'GREEN',\n",
       " 'KNIGHT',\n",
       " 'BLACK',\n",
       " 'KNIGHT',\n",
       " 'GREEN',\n",
       " 'KNIGHT',\n",
       " 'BLACK',\n",
       " 'KNIGHT',\n",
       " 'ARTHUR',\n",
       " 'I',\n",
       " 'I',\n",
       " 'BLACK',\n",
       " 'KNIGHT',\n",
       " 'ARTHUR',\n",
       " 'BLACK',\n",
       " 'KNIGHT',\n",
       " 'ARTHUR',\n",
       " 'I',\n",
       " 'I',\n",
       " 'BLACK',\n",
       " 'KNIGHT',\n",
       " 'ARTHUR',\n",
       " 'I',\n",
       " 'BLACK',\n",
       " 'KNIGHT',\n",
       " 'I',\n",
       " 'ARTHUR',\n",
       " 'ARTHUR',\n",
       " 'BLACK',\n",
       " 'KNIGHT',\n",
       " 'ARTHUR',\n",
       " 'BLACK',\n",
       " 'KNIGHT',\n",
       " 'ARTHUR',\n",
       " 'BLACK',\n",
       " 'KNIGHT',\n",
       " 'ARTHUR',\n",
       " 'A',\n",
       " 'BLACK',\n",
       " 'KNIGHT',\n",
       " 'ARTHUR',\n",
       " 'BLACK',\n",
       " 'KNIGHT',\n",
       " 'I',\n",
       " 'ARTHUR',\n",
       " 'BLACK',\n",
       " 'KNIGHT',\n",
       " 'ARTHUR',\n",
       " 'BLACK',\n",
       " 'KNIGHT',\n",
       " 'ARTHUR',\n",
       " 'BLACK',\n",
       " 'KNIGHT',\n",
       " 'ARTHUR',\n",
       " 'BLACK',\n",
       " 'KNIGHT',\n",
       " 'ARTHUR',\n",
       " 'BLACK',\n",
       " 'KNIGHT',\n",
       " 'ARTHUR',\n",
       " 'BLACK',\n",
       " 'KNIGHT',\n",
       " 'I',\n",
       " 'ARTHUR',\n",
       " 'BLACK',\n",
       " 'KNIGHT',\n",
       " 'ARTHUR',\n",
       " 'BLACK',\n",
       " 'KNIGHT',\n",
       " 'ARTHUR',\n",
       " 'I',\n",
       " 'ARTHUR',\n",
       " 'BLACK',\n",
       " 'KNIGHT',\n",
       " 'BLACK',\n",
       " 'KNIGHT',\n",
       " 'I',\n",
       " 'ARTHUR',\n",
       " 'BLACK',\n",
       " 'KNIGHT',\n",
       " 'ARTHUR',\n",
       " 'BLACK',\n",
       " 'KNIGHT',\n",
       " 'I',\n",
       " 'ARTHUR',\n",
       " 'BLACK',\n",
       " 'KNIGHT',\n",
       " 'ARTHUR',\n",
       " 'BLACK',\n",
       " 'KNIGHT',\n",
       " 'BLACK',\n",
       " 'KNIGHT',\n",
       " 'ARTHUR',\n",
       " 'BLACK',\n",
       " 'KNIGHT',\n",
       " 'I',\n",
       " 'I',\n",
       " 'SCENE',\n",
       " 'MONKS',\n",
       " 'CROWD',\n",
       " 'A',\n",
       " 'A',\n",
       " 'A',\n",
       " 'A',\n",
       " 'MONKS',\n",
       " 'CROWD',\n",
       " 'A',\n",
       " 'A',\n",
       " 'A',\n",
       " 'A',\n",
       " 'A',\n",
       " 'A',\n",
       " 'A',\n",
       " 'A',\n",
       " 'A',\n",
       " 'A',\n",
       " 'A',\n",
       " 'A',\n",
       " 'A',\n",
       " 'VILLAGER',\n",
       " 'CROWD',\n",
       " 'BEDEVERE',\n",
       " 'VILLAGER',\n",
       " 'CROWD',\n",
       " 'BEDEVERE',\n",
       " 'WITCH',\n",
       " 'I',\n",
       " 'I',\n",
       " 'BEDEVERE',\n",
       " 'WITCH',\n",
       " 'CROWD',\n",
       " 'WITCH',\n",
       " 'BEDEVERE',\n",
       " 'VILLAGER',\n",
       " 'BEDEVERE',\n",
       " 'VILLAGER',\n",
       " 'VILLAGER',\n",
       " 'CROWD',\n",
       " 'BEDEVERE',\n",
       " 'VILLAGER',\n",
       " 'VILLAGER',\n",
       " 'VILLAGER',\n",
       " 'VILLAGER',\n",
       " 'VILLAGERS',\n",
       " 'VILLAGER',\n",
       " 'VILLAGER',\n",
       " 'VILLAGER',\n",
       " 'VILLAGER',\n",
       " 'A',\n",
       " 'VILLAGERS',\n",
       " 'A',\n",
       " 'VILLAGER',\n",
       " 'A',\n",
       " 'VILLAGER',\n",
       " 'RANDOM',\n",
       " 'BEDEVERE',\n",
       " 'VILLAGER',\n",
       " 'BEDEVERE',\n",
       " 'A',\n",
       " 'VILLAGER',\n",
       " 'I',\n",
       " 'VILLAGER',\n",
       " 'VILLAGER',\n",
       " 'CROWD',\n",
       " 'BEDEVERE',\n",
       " 'VILLAGER',\n",
       " 'VILLAGER',\n",
       " 'VILLAGER',\n",
       " 'CROWD',\n",
       " 'BEDEVERE',\n",
       " 'VILLAGER',\n",
       " 'VILLAGER',\n",
       " 'CROWD',\n",
       " 'BEDEVERE',\n",
       " 'VILLAGER',\n",
       " 'VILLAGER',\n",
       " 'VILLAGER',\n",
       " 'BEDEVERE',\n",
       " 'VILLAGER',\n",
       " 'B',\n",
       " 'BEDEVERE',\n",
       " 'CROWD',\n",
       " 'BEDEVERE',\n",
       " 'VILLAGER',\n",
       " 'BEDEVERE',\n",
       " 'VILLAGER',\n",
       " 'RANDOM',\n",
       " 'BEDEVERE',\n",
       " 'VILLAGER',\n",
       " 'VILLAGER',\n",
       " 'VILLAGER',\n",
       " 'CROWD',\n",
       " 'BEDEVERE',\n",
       " 'VILLAGER',\n",
       " 'VILLAGER',\n",
       " 'VILLAGER',\n",
       " 'VILLAGER',\n",
       " 'VILLAGER',\n",
       " 'VILLAGER',\n",
       " 'VILLAGER',\n",
       " 'VILLAGER',\n",
       " 'VILLAGER',\n",
       " 'ARTHUR',\n",
       " 'A',\n",
       " 'CROWD',\n",
       " 'BEDEVERE',\n",
       " 'VILLAGER',\n",
       " 'BEDEVERE',\n",
       " 'VILLAGER',\n",
       " 'A',\n",
       " 'VILLAGER',\n",
       " 'A',\n",
       " 'CROWD',\n",
       " 'A',\n",
       " 'A',\n",
       " 'VILLAGER',\n",
       " 'BEDEVERE',\n",
       " 'CROWD',\n",
       " 'BEDEVERE',\n",
       " 'CROWD',\n",
       " 'A',\n",
       " 'A',\n",
       " 'A',\n",
       " 'WITCH',\n",
       " 'VILLAGER',\n",
       " 'CROWD',\n",
       " 'BEDEVERE',\n",
       " 'ARTHUR',\n",
       " 'I',\n",
       " 'BEDEVERE',\n",
       " 'ARTHUR',\n",
       " 'BEDEVERE',\n",
       " 'I',\n",
       " 'ARTHUR',\n",
       " 'BEDEVERE',\n",
       " 'ARTHUR',\n",
       " 'I',\n",
       " 'NARRATOR',\n",
       " 'SCENE',\n",
       " 'SIR',\n",
       " 'BEDEVERE',\n",
       " 'ARTHUR',\n",
       " 'BEDEVERE',\n",
       " 'SIR',\n",
       " 'LAUNCELOT',\n",
       " 'ARTHUR',\n",
       " 'SIR',\n",
       " 'GALAHAD',\n",
       " 'LAUNCELOT',\n",
       " 'PATSY',\n",
       " 'ARTHUR',\n",
       " 'I',\n",
       " 'KNIGHTS',\n",
       " 'PRISONER',\n",
       " 'KNIGHTS',\n",
       " 'MAN',\n",
       " 'I',\n",
       " 'ARTHUR',\n",
       " 'KNIGHTS',\n",
       " 'SCENE',\n",
       " 'GOD',\n",
       " 'I',\n",
       " 'ARTHUR',\n",
       " 'GOD',\n",
       " 'I',\n",
       " 'I',\n",
       " 'ARTHUR',\n",
       " 'I',\n",
       " 'O',\n",
       " 'GOD',\n",
       " 'ARTHUR',\n",
       " 'GOD',\n",
       " 'ARTHUR',\n",
       " 'O',\n",
       " 'GOD',\n",
       " 'LAUNCELOT',\n",
       " 'A',\n",
       " 'A',\n",
       " 'GALAHAD',\n",
       " 'SCENE',\n",
       " 'ARTHUR',\n",
       " 'FRENCH',\n",
       " 'GUARD',\n",
       " 'ARTHUR',\n",
       " 'FRENCH',\n",
       " 'GUARD',\n",
       " 'ARTHUR',\n",
       " 'FRENCH',\n",
       " 'GUARD',\n",
       " 'I',\n",
       " 'I',\n",
       " 'ARTHUR',\n",
       " 'GALAHAD',\n",
       " 'ARTHUR',\n",
       " 'FRENCH',\n",
       " 'GUARD',\n",
       " 'I',\n",
       " 'ARTHUR',\n",
       " 'FRENCH',\n",
       " 'GUARD',\n",
       " 'ARTHUR',\n",
       " 'FRENCH',\n",
       " 'GUARD',\n",
       " 'I',\n",
       " 'I',\n",
       " 'GALAHAD',\n",
       " 'FRENCH',\n",
       " 'GUARD',\n",
       " 'ARTHUR',\n",
       " 'FRENCH',\n",
       " 'GUARD',\n",
       " 'I',\n",
       " 'GALAHAD',\n",
       " 'ARTHUR',\n",
       " 'FRENCH',\n",
       " 'GUARD',\n",
       " 'I',\n",
       " 'I',\n",
       " 'GALAHAD',\n",
       " 'FRENCH',\n",
       " 'GUARD',\n",
       " 'I',\n",
       " 'ARTHUR',\n",
       " 'I',\n",
       " 'FRENCH',\n",
       " 'GUARD',\n",
       " 'OTHER',\n",
       " 'FRENCH',\n",
       " 'GUARD',\n",
       " 'FRENCH',\n",
       " 'GUARD',\n",
       " 'ARTHUR',\n",
       " 'I',\n",
       " 'KNIGHTS',\n",
       " 'ARTHUR',\n",
       " 'KNIGHTS',\n",
       " 'FRENCH',\n",
       " 'GUARD',\n",
       " 'FRENCH',\n",
       " 'GUARD',\n",
       " 'ARTHUR',\n",
       " 'KNIGHTS',\n",
       " 'FRENCH',\n",
       " 'GUARD',\n",
       " 'FRENCH',\n",
       " 'GUARDS',\n",
       " 'LAUNCELOT',\n",
       " 'I',\n",
       " 'ARTHUR',\n",
       " 'BEDEVERE',\n",
       " 'I',\n",
       " 'FRENCH',\n",
       " 'GUARDS',\n",
       " 'C',\n",
       " 'A',\n",
       " 'ARTHUR',\n",
       " 'BEDEVERE',\n",
       " 'I',\n",
       " 'ARTHUR',\n",
       " 'BEDEVERE',\n",
       " 'U',\n",
       " 'I',\n",
       " 'ARTHUR',\n",
       " 'BEDEVERE',\n",
       " 'ARTHUR',\n",
       " 'KNIGHTS',\n",
       " 'CRASH',\n",
       " 'FRENCH',\n",
       " 'GUARDS',\n",
       " 'SCENE',\n",
       " 'VOICE',\n",
       " 'DIRECTOR',\n",
       " 'HISTORIAN',\n",
       " 'KNIGHT',\n",
       " 'KNIGHT',\n",
       " 'HISTORIAN',\n",
       " 'HISTORIAN',\n",
       " 'S',\n",
       " 'WIFE',\n",
       " 'SCENE',\n",
       " 'NARRATOR',\n",
       " 'MINSTREL',\n",
       " 'O',\n",
       " 'SIR',\n",
       " 'ROBIN',\n",
       " 'DENNIS',\n",
       " 'WOMAN',\n",
       " 'ALL',\n",
       " 'HEADS',\n",
       " 'MINSTREL',\n",
       " 'ROBIN',\n",
       " 'I',\n",
       " 'ALL',\n",
       " 'HEADS',\n",
       " 'MINSTREL',\n",
       " 'ROBIN',\n",
       " 'I',\n",
       " 'ALL',\n",
       " 'HEADS',\n",
       " 'I',\n",
       " 'ROBIN',\n",
       " 'W',\n",
       " 'I',\n",
       " 'I',\n",
       " 'ALL',\n",
       " 'HEADS',\n",
       " 'ROBIN',\n",
       " 'I',\n",
       " 'LEFT',\n",
       " 'HEAD',\n",
       " 'I',\n",
       " 'MIDDLE',\n",
       " 'HEAD',\n",
       " 'I',\n",
       " 'RIGHT',\n",
       " 'HEAD',\n",
       " 'I',\n",
       " 'MIDDLE',\n",
       " 'HEAD',\n",
       " 'I',\n",
       " 'LEFT',\n",
       " 'HEAD',\n",
       " 'I',\n",
       " 'RIGHT',\n",
       " 'HEAD',\n",
       " 'LEFT',\n",
       " 'HEAD',\n",
       " 'ROBIN',\n",
       " 'I',\n",
       " 'LEFT',\n",
       " 'HEAD',\n",
       " 'I',\n",
       " 'RIGHT',\n",
       " 'HEAD',\n",
       " 'MIDDLE',\n",
       " 'HEAD',\n",
       " 'LEFT',\n",
       " 'HEAD',\n",
       " 'RIGHT',\n",
       " 'HEAD',\n",
       " 'MIDDLE',\n",
       " 'HEAD',\n",
       " 'LEFT',\n",
       " 'HEAD',\n",
       " 'MIDDLE',\n",
       " 'HEAD',\n",
       " 'LEFT',\n",
       " 'HEAD',\n",
       " 'I',\n",
       " 'MIDDLE',\n",
       " 'HEAD',\n",
       " 'RIGHT',\n",
       " 'HEAD',\n",
       " 'LEFT',\n",
       " 'HEAD',\n",
       " 'MIDDLE',\n",
       " 'HEAD',\n",
       " 'RIGHT',\n",
       " 'HEAD',\n",
       " 'LEFT',\n",
       " 'HEAD',\n",
       " 'ALL',\n",
       " 'HEADS',\n",
       " 'MIDDLE',\n",
       " 'HEAD',\n",
       " 'RIGHT',\n",
       " 'HEAD',\n",
       " 'MINSTREL',\n",
       " 'ROBIN',\n",
       " 'MINSTREL',\n",
       " 'ROBIN',\n",
       " 'I',\n",
       " 'MINSTREL',\n",
       " 'ROBIN',\n",
       " 'MINSTREL',\n",
       " 'ROBIN',\n",
       " 'I',\n",
       " 'MINSTREL',\n",
       " 'ROBIN',\n",
       " 'I',\n",
       " 'MINSTREL',\n",
       " 'ROBIN',\n",
       " 'MINSTREL',\n",
       " 'ROBIN',\n",
       " 'I',\n",
       " 'CARTOON',\n",
       " 'MONKS',\n",
       " 'CARTOON',\n",
       " 'CHARACTER',\n",
       " 'CARTOON',\n",
       " 'MONKS',\n",
       " 'CARTOON',\n",
       " 'CHARACTERS',\n",
       " 'CARTOON',\n",
       " 'MONKS',\n",
       " 'CARTOON',\n",
       " 'CHARACTER',\n",
       " 'VOICE',\n",
       " 'CARTOON',\n",
       " 'CHARACTER',\n",
       " 'SCENE',\n",
       " 'NARRATOR',\n",
       " 'GALAHAD',\n",
       " 'GIRLS',\n",
       " 'ZOOT',\n",
       " 'GALAHAD',\n",
       " 'ZOOT',\n",
       " 'GALAHAD',\n",
       " 'ZOOT',\n",
       " 'GALAHAD',\n",
       " 'ZOOT',\n",
       " 'MIDGET',\n",
       " 'CRAPPER',\n",
       " 'O',\n",
       " 'ZOOT',\n",
       " 'MIDGET',\n",
       " 'CRAPPER',\n",
       " 'ZOOT',\n",
       " 'GALAHAD',\n",
       " 'I',\n",
       " 'I',\n",
       " 'ZOOT',\n",
       " 'GALAHAD',\n",
       " 'ZOOT',\n",
       " 'GALAHAD',\n",
       " 'ZOOT',\n",
       " 'GALAHAD',\n",
       " 'I',\n",
       " 'ZOOT',\n",
       " 'GALAHAD',\n",
       " 'I',\n",
       " 'I',\n",
       " 'ZOOT',\n",
       " 'I',\n",
       " 'GALAHAD',\n",
       " 'ZOOT',\n",
       " 'PIGLET',\n",
       " 'GALAHAD',\n",
       " 'ZOOT',\n",
       " 'GALAHAD',\n",
       " 'B',\n",
       " 'ZOOT',\n",
       " 'WINSTON',\n",
       " 'GALAHAD',\n",
       " 'PIGLET',\n",
       " 'GALAHAD',\n",
       " 'PIGLET',\n",
       " 'GALAHAD',\n",
       " 'I',\n",
       " 'PIGLET',\n",
       " 'GALAHAD',\n",
       " 'I',\n",
       " 'PIGLET',\n",
       " 'GALAHAD',\n",
       " 'I',\n",
       " 'I',\n",
       " 'I',\n",
       " 'GIRLS',\n",
       " 'GALAHAD',\n",
       " 'GIRLS',\n",
       " 'GALAHAD',\n",
       " 'DINGO',\n",
       " 'I',\n",
       " 'GALAHAD',\n",
       " 'I',\n",
       " 'DINGO',\n",
       " 'GALAHAD',\n",
       " 'I',\n",
       " 'I',\n",
       " 'DINGO',\n",
       " 'GALAHAD',\n",
       " 'DINGO',\n",
       " 'I',\n",
       " 'GALAHAD',\n",
       " 'DINGO',\n",
       " 'I',\n",
       " 'LEFT',\n",
       " 'HEAD',\n",
       " 'DENNIS',\n",
       " 'OLD',\n",
       " 'MAN',\n",
       " 'TIM',\n",
       " 'THE',\n",
       " 'ENCHANTER',\n",
       " 'ARMY',\n",
       " 'OF',\n",
       " 'KNIGHTS',\n",
       " 'DINGO',\n",
       " 'I',\n",
       " 'GOD',\n",
       " 'DINGO',\n",
       " 'GIRLS',\n",
       " 'A',\n",
       " 'A',\n",
       " 'DINGO',\n",
       " 'AMAZING',\n",
       " 'STUNNER',\n",
       " 'LOVELY',\n",
       " 'DINGO',\n",
       " 'GIRLS',\n",
       " 'A',\n",
       " 'A',\n",
       " 'DINGO',\n",
       " 'GIRLS',\n",
       " 'GALAHAD',\n",
       " 'I',\n",
       " 'LAUNCELOT',\n",
       " 'GALAHAD',\n",
       " 'LAUNCELOT',\n",
       " 'GALAHAD',\n",
       " 'LAUNCELOT',\n",
       " 'GALAHAD',\n",
       " 'LAUNCELOT',\n",
       " 'DINGO',\n",
       " 'LAUNCELOT',\n",
       " 'GALAHAD',\n",
       " 'LAUNCELOT',\n",
       " 'GALAHAD',\n",
       " 'I',\n",
       " 'LAUNCELOT',\n",
       " 'GIRLS',\n",
       " 'GALAHAD',\n",
       " 'I',\n",
       " 'DINGO',\n",
       " 'GIRLS',\n",
       " 'LAUNCELOT',\n",
       " 'GALAHAD',\n",
       " 'I',\n",
       " 'I',\n",
       " 'DINGO',\n",
       " 'GIRLS',\n",
       " 'LAUNCELOT',\n",
       " 'GALAHAD',\n",
       " 'I',\n",
       " 'DINGO',\n",
       " 'GIRLS',\n",
       " 'DINGO',\n",
       " 'LAUNCELOT',\n",
       " 'GALAHAD',\n",
       " 'I',\n",
       " 'I',\n",
       " 'LAUNCELOT',\n",
       " 'GALAHAD',\n",
       " 'LAUNCELOT',\n",
       " 'GALAHAD',\n",
       " 'I',\n",
       " 'LAUNCELOT',\n",
       " 'GALAHAD',\n",
       " 'LAUNCELOT',\n",
       " 'GALAHAD',\n",
       " 'I',\n",
       " 'LAUNCELOT',\n",
       " 'I',\n",
       " 'NARRATOR',\n",
       " 'I',\n",
       " 'I',\n",
       " 'CROWD',\n",
       " 'NARRATOR',\n",
       " 'I',\n",
       " 'SCENE',\n",
       " 'OLD',\n",
       " 'MAN',\n",
       " 'ARTHUR',\n",
       " 'OLD',\n",
       " 'MAN',\n",
       " 'ARTHUR',\n",
       " 'OLD',\n",
       " 'MAN',\n",
       " 'ARTHUR',\n",
       " 'OLD',\n",
       " 'MAN',\n",
       " 'ARTHUR',\n",
       " 'OLD',\n",
       " 'MAN',\n",
       " 'ARTHUR',\n",
       " 'OLD',\n",
       " 'MAN',\n",
       " 'ARTHUR',\n",
       " 'OLD',\n",
       " 'MAN',\n",
       " 'SCENE',\n",
       " 'HEAD',\n",
       " 'KNIGHT',\n",
       " 'OF',\n",
       " 'NI',\n",
       " 'KNIGHTS',\n",
       " 'OF',\n",
       " 'NI',\n",
       " 'ARTHUR',\n",
       " 'HEAD',\n",
       " 'KNIGHT',\n",
       " 'RANDOM',\n",
       " 'ARTHUR',\n",
       " 'HEAD',\n",
       " 'KNIGHT',\n",
       " 'BEDEVERE',\n",
       " 'HEAD',\n",
       " 'KNIGHT',\n",
       " 'RANDOM',\n",
       " 'ARTHUR',\n",
       " 'HEAD',\n",
       " 'KNIGHT',\n",
       " 'ARTHUR',\n",
       " 'HEAD',\n",
       " 'KNIGHT',\n",
       " 'KNIGHTS',\n",
       " 'OF',\n",
       " 'NI',\n",
       " 'ARTHUR',\n",
       " 'HEAD',\n",
       " 'KNIGHT',\n",
       " 'ARTHUR',\n",
       " 'HEAD',\n",
       " 'KNIGHT',\n",
       " 'ARTHUR',\n",
       " 'A',\n",
       " 'KNIGHTS',\n",
       " 'OF',\n",
       " 'NI',\n",
       " 'ARTHUR',\n",
       " 'PARTY',\n",
       " 'ARTHUR',\n",
       " 'HEAD',\n",
       " 'KNIGHT',\n",
       " 'ARTHUR',\n",
       " 'O',\n",
       " 'HEAD',\n",
       " 'KNIGHT',\n",
       " 'ARTHUR',\n",
       " 'HEAD',\n",
       " 'KNIGHT',\n",
       " 'ARTHUR',\n",
       " 'HEAD',\n",
       " 'KNIGHT',\n",
       " 'CARTOON',\n",
       " 'CHARACTER',\n",
       " 'SUN',\n",
       " 'CARTOON',\n",
       " 'CHARACTER',\n",
       " 'SUN',\n",
       " 'CARTOON',\n",
       " 'CHARACTER',\n",
       " 'SUN',\n",
       " 'CARTOON',\n",
       " 'CHARACTER',\n",
       " 'SCENE',\n",
       " 'NARRATOR',\n",
       " 'FATHER',\n",
       " 'PRINCE',\n",
       " 'HERBERT',\n",
       " 'FATHER',\n",
       " 'HERBERT',\n",
       " 'FATHER',\n",
       " 'HERBERT',\n",
       " 'B',\n",
       " 'I',\n",
       " 'FATHER',\n",
       " 'I',\n",
       " 'I',\n",
       " 'I',\n",
       " 'I',\n",
       " 'I',\n",
       " 'I',\n",
       " 'HERBERT',\n",
       " 'I',\n",
       " 'I',\n",
       " 'FATHER',\n",
       " 'HERBERT',\n",
       " 'I',\n",
       " 'FATHER',\n",
       " 'I',\n",
       " 'HERBERT',\n",
       " 'B',\n",
       " 'I',\n",
       " 'FATHER',\n",
       " 'HERBERT',\n",
       " 'FATHER',\n",
       " 'HERBERT',\n",
       " 'I',\n",
       " 'FATHER',\n",
       " 'HERBERT',\n",
       " ...]"
      ]
     },
     "execution_count": 26,
     "metadata": {},
     "output_type": "execute_result"
    }
   ],
   "source": [
    "[word for word in text6 if word.isupper()]"
   ]
  },
  {
   "cell_type": "markdown",
   "metadata": {},
   "source": [
    "24. ◑ Write expressions for finding all words in text6 that meet the conditions listed below. The result should be in the form of a list of words: \\['word1', 'word2', ...\\].\n",
    "\n",
    " 1. Ending in ize\n",
    " 1. Containing the letter z\n",
    " 1. Containing the sequence of letters pt\n",
    " 1. Having all lowercase letters except for an initial capital (i.e., titlecase)"
   ]
  },
  {
   "cell_type": "code",
   "execution_count": 27,
   "metadata": {},
   "outputs": [
    {
     "name": "stdout",
     "output_type": "stream",
     "text": [
      "[]\n"
     ]
    }
   ],
   "source": [
    "print(sorted(set(word for word in text6 if word.endswith('ize'))))"
   ]
  },
  {
   "cell_type": "code",
   "execution_count": 28,
   "metadata": {},
   "outputs": [
    {
     "name": "stdout",
     "output_type": "stream",
     "text": [
      "['Fetchez', 'amazes', 'frozen', 'zhiv', 'zone', 'zoo', 'zoop', 'zoosh']\n"
     ]
    }
   ],
   "source": [
    "print(sorted(set(word for word in text6 if 'z' in word)))"
   ]
  },
  {
   "cell_type": "code",
   "execution_count": 29,
   "metadata": {},
   "outputs": [
    {
     "name": "stdout",
     "output_type": "stream",
     "text": [
      "['Chapter', 'Thpppppt', 'Thppppt', 'Thpppt', 'Thppt', 'aptly', 'empty', 'excepting', 'ptoo', 'temptation', 'temptress']\n"
     ]
    }
   ],
   "source": [
    "print(sorted(set(word for word in text6 if 'pt' in word)))"
   ]
  },
  {
   "cell_type": "code",
   "execution_count": 30,
   "metadata": {},
   "outputs": [
    {
     "name": "stdout",
     "output_type": "stream",
     "text": [
      "['A', 'Aaaaaaaaah', 'Aaaaaaaah', 'Aaaaaah', 'Aaaah', 'Aaaaugh', 'Aaagh', 'Aaah', 'Aaauggh', 'Aaaugh', 'Aaauugh', 'Aagh', 'Aah', 'Aauuggghhh', 'Aauuugh', 'Aauuuuugh', 'Aauuuves', 'Action', 'Actually', 'African', 'Ages', 'Aggh', 'Agh', 'Ah', 'Ahh', 'Alice', 'All', 'Allo', 'Almighty', 'Alright', 'Am', 'Amen', 'An', 'Anarcho', 'And', 'Angnor', 'Anthrax', 'Antioch', 'Anybody', 'Anyway', 'Apples', 'Aramaic', 'Are', 'Arimathea', 'Armaments', 'Arthur', 'As', 'Ask', 'Assyria', 'At', 'Attila', 'Augh', 'Autumn', 'Auuuuuuuugh', 'Away', 'Ay', 'Ayy', 'B', 'Back', 'Bad', 'Badon', 'Battle', 'Be', 'Beast', 'Bedevere', 'Bedwere', 'Behold', 'Between', 'Beyond', 'Black', 'Bloody', 'Blue', 'Bon', 'Bones', 'Book', 'Bors', 'Brave', 'Bravely', 'Bravest', 'Bread', 'Bridge', 'Bring', 'Bristol', 'Britain', 'Britons', 'Brother', 'Build', 'Burn', 'But', 'By', 'C', 'Caerbannog', 'Camaaaaaargue', 'Camelot', 'Castle', 'Chapter', 'Charge', 'Chaste', 'Cherries', 'Chicken', 'Chickennn', 'Chop', 'Christ', 'Churches', 'Cider', 'Clark', 'Clear', 'Come', 'Concorde', 'Consult', 'Cornwall', 'Could', 'Course', 'Court', 'Crapper', 'Cut', 'Dappy', 'Death', 'Defeat', 'Dennis', 'Did', 'Didn', 'Dingo', 'Dis', 'Divine', 'Do', 'Doctor', 'Does', 'Don', 'Dragon', 'Dramatically', 'Ecky', 'Ector', 'Eee', 'Eh', 'Enchanter', 'England', 'English', 'Erbert', 'Ere', 'Erm', 'Eternal', 'European', 'Even', 'Every', 'Everything', 'Ewing', 'Exactly', 'Excalibur', 'Excuse', 'Explain', 'Far', 'Farewell', 'Father', 'Fetchez', 'Fiends', 'Fine', 'First', 'Firstly', 'Five', 'Follow', 'For', 'Forgive', 'Forward', 'Found', 'Four', 'France', 'Frank', 'French', 'Gable', 'Galahad', 'Gallahad', 'Gawain', 'Get', 'Go', 'God', 'Good', 'Gorge', 'Grail', 'Great', 'Greetings', 'Grenade', 'Guards', 'Guy', 'Ha', 'Hah', 'Hallo', 'Halt', 'Hand', 'Hang', 'Have', 'Haw', 'He', 'Hee', 'Heee', 'Heh', 'Hello', 'Help', 'Herbert', 'Here', 'Hey', 'Hic', 'Hill', 'Himself', 'His', 'Hiyaah', 'Hiyah', 'Hiyya', 'Hm', 'Hmm', 'Ho', 'Hoa', 'Hold', 'Holy', 'Honestly', 'Hoo', 'Hooray', 'How', 'Huh', 'Hurry', 'Huy', 'Huyah', 'Hya', 'Hyy', 'I', 'Idiom', 'Iesu', 'If', 'Iiiiives', 'Iiiives', 'In', 'Is', 'Isn', 'It', 'Ives', 'Jesus', 'Joseph', 'Just', 'Keep', 'King', 'Knight', 'Knights', 'Lady', 'Lake', 'Lancelot', 'Launcelot', 'Lead', 'Leaving', 'Let', 'Lie', 'Like', 'Listen', 'Loimbard', 'Look', 'Looks', 'Lord', 'Lucky', 'Make', 'Man', 'May', 'Maynard', 'Meanwhile', 'Mercea', 'Message', 'Midget', 'Mind', 'Mine', 'Mmm', 'Monsieur', 'More', 'Morning', 'Most', 'Mother', 'Mud', 'Must', 'My', 'N', 'Nador', 'Nay', 'Neee', 'Never', 'Ni', 'Nine', 'Ninepence', 'No', 'None', 'Not', 'Nothing', 'Now', 'Nu', 'O', 'Of', 'Off', 'Oh', 'Ohh', 'Old', 'Olfin', 'On', 'Once', 'One', 'Ooh', 'Oooh', 'Oooo', 'Oooohoohohooo', 'Oooooooh', 'Open', 'Or', 'Order', 'Other', 'Oui', 'Our', 'Over', 'Ow', 'Packing', 'Patsy', 'Pendragon', 'Peng', 'Perhaps', 'Peril', 'Picture', 'Pie', 'Piglet', 'Pin', 'Please', 'Practice', 'Prepare', 'Prince', 'Princess', 'Providence', 'Psalms', 'Pull', 'Pure', 'Put', 'Quick', 'Quickly', 'Quiet', 'Quite', 'Quoi', 'Rather', 'Really', 'Recently', 'Remove', 'Rheged', 'Ridden', 'Right', 'Riiight', 'Robin', 'Robinson', 'Roger', 'Round', 'Run', 'Running', 'S', 'Said', 'Saint', 'Saxons', 'Say', 'Schools', 'See', 'Seek', 'Shall', 'She', 'Shh', 'Shrubber', 'Shrubberies', 'Shut', 'Silence', 'Silly', 'Since', 'Sir', 'Skip', 'So', 'Sorry', 'Speak', 'Splendid', 'Spring', 'Stand', 'Stay', 'Steady', 'Stop', 'Summer', 'Supposing', 'Supreme', 'Surely', 'Swamp', 'Table', 'Tale', 'Tall', 'Tell', 'Thank', 'That', 'The', 'Thee', 'Then', 'There', 'Therefore', 'They', 'This', 'Those', 'Thou', 'Thpppppt', 'Thppppt', 'Thpppt', 'Thppt', 'Three', 'Throw', 'Thsss', 'Thursday', 'Thy', 'Til', 'Tim', 'Tis', 'To', 'Today', 'Together', 'Too', 'Torment', 'Tower', 'True', 'Try', 'Twenty', 'Two', 'U', 'Uh', 'Uhh', 'Ulk', 'Um', 'Umhm', 'Umm', 'Un', 'Unfortunately', 'Until', 'Use', 'Uther', 'Uugh', 'Uuh', 'Very', 'Victory', 'W', 'Waa', 'Wait', 'Walk', 'Wayy', 'We', 'Welcome', 'Well', 'What', 'When', 'Where', 'Which', 'Who', 'Whoa', 'Why', 'Will', 'Winston', 'Winter', 'With', 'Woa', 'Wood', 'Would', 'Y', 'Yapping', 'Yay', 'Yeaaah', 'Yeaah', 'Yeah', 'Yes', 'You', 'Your', 'Yup', 'Zoot']\n"
     ]
    }
   ],
   "source": [
    "print(sorted(set(word for word in text6 if word.istitle())))"
   ]
  },
  {
   "cell_type": "markdown",
   "metadata": {},
   "source": [
    "25. ◑ Define sent to be the list of words \\['she', 'sells', 'sea', 'shells', 'by', 'the', 'sea', 'shore'\\]. Now write code to perform the following tasks:\n",
    "\n",
    " 1. Print all words beginning with sh\n",
    " 1. Print all words longer than four characters"
   ]
  },
  {
   "cell_type": "code",
   "execution_count": 31,
   "metadata": {},
   "outputs": [
    {
     "name": "stdout",
     "output_type": "stream",
     "text": [
      "{'shells', 'shore', 'she'}\n",
      "{'shells', 'sells', 'shore'}\n"
     ]
    }
   ],
   "source": [
    "sent = ['she', 'sells', 'sea', 'shells', 'by', 'the', 'sea', 'shore']\n",
    "print(set(word for word in sent if word.startswith('sh')))\n",
    "print(set(word for word in sent if len(word) > 4))"
   ]
  },
  {
   "cell_type": "markdown",
   "metadata": {},
   "source": [
    "26. ◑ What does the following Python code do? sum(len(w) for w in text1) Can you use it to work out the average word length of a text?"
   ]
  },
  {
   "cell_type": "markdown",
   "metadata": {},
   "source": [
    "`sum(len(w) for w in text1)` compute the sum of word lengths for words in text1. To find the average word length, divide it by the number of words in text1."
   ]
  },
  {
   "cell_type": "code",
   "execution_count": 32,
   "metadata": {},
   "outputs": [
    {
     "data": {
      "text/plain": [
       "3.830411128023649"
      ]
     },
     "execution_count": 32,
     "metadata": {},
     "output_type": "execute_result"
    }
   ],
   "source": [
    "def average_word_length(text):\n",
    "    '''Returns the average word length for a list of words(including punctuation).'''\n",
    "    return sum(len(w) for w in text) / len(text)\n",
    "\n",
    "average_word_length(text1)"
   ]
  },
  {
   "cell_type": "markdown",
   "metadata": {},
   "source": [
    "27. ◑ Define a function called vocab_size(text) that has a single parameter for the text, and which returns the vocabulary size of the text."
   ]
  },
  {
   "cell_type": "code",
   "execution_count": 33,
   "metadata": {},
   "outputs": [
    {
     "data": {
      "text/plain": [
       "16948"
      ]
     },
     "execution_count": 33,
     "metadata": {},
     "output_type": "execute_result"
    }
   ],
   "source": [
    "def vocab_size(text):\n",
    "    '''Returns the vocabulary size (number of unique words) of the text'''\n",
    "    return len(set(word.lower() for word in text if word.isalpha()))\n",
    "\n",
    "vocab_size(text1)"
   ]
  },
  {
   "cell_type": "markdown",
   "metadata": {},
   "source": [
    "28. ◑ Define a function percent(word, text) that calculates how often a given word occurs in a text, and expresses the result as a percentage."
   ]
  },
  {
   "cell_type": "code",
   "execution_count": 34,
   "metadata": {},
   "outputs": [
    {
     "data": {
      "text/plain": [
       "'5.260736372733581%'"
      ]
     },
     "execution_count": 34,
     "metadata": {},
     "output_type": "execute_result"
    }
   ],
   "source": [
    "def percent(word, text):\n",
    "    return '{}%'.format(100 * text.count(word) / len(text))\n",
    "\n",
    "percent('the', text1)"
   ]
  },
  {
   "cell_type": "markdown",
   "metadata": {},
   "source": [
    "29. ◑ We have been using sets to store vocabularies. Try the following Python expression: set(sent3) < set(text1). Experiment with this using different arguments to set(). What does it do? Can you think of a practical application for this?"
   ]
  },
  {
   "cell_type": "markdown",
   "metadata": {},
   "source": [
    "This checks if `set(sent3)` is a proper subset of `set(text1)`, i.e. if all the words in `sent3` appear in `text1`, but not all words in `text1` appear in `sent3`. \n",
    "\n",
    "This expression is not the same as `set_A.issubset(set_B)` and `set_A <= set_B` which will return True if `set_A == set_B`."
   ]
  },
  {
   "cell_type": "code",
   "execution_count": 35,
   "metadata": {},
   "outputs": [
    {
     "data": {
      "text/plain": [
       "True"
      ]
     },
     "execution_count": 35,
     "metadata": {},
     "output_type": "execute_result"
    }
   ],
   "source": [
    "set(sent3) < set(text1)"
   ]
  },
  {
   "cell_type": "code",
   "execution_count": 36,
   "metadata": {},
   "outputs": [
    {
     "data": {
      "text/plain": [
       "True"
      ]
     },
     "execution_count": 36,
     "metadata": {},
     "output_type": "execute_result"
    }
   ],
   "source": [
    "set(sent3).issubset(set(text1))"
   ]
  },
  {
   "cell_type": "code",
   "execution_count": 37,
   "metadata": {},
   "outputs": [
    {
     "name": "stdout",
     "output_type": "stream",
     "text": [
      "False\n",
      "True\n",
      "True\n"
     ]
    }
   ],
   "source": [
    "print(set(sent3) < set(sent3))\n",
    "print(set(sent3).issubset(set(sent3)))\n",
    "print(set(sent3) <= set(sent3))"
   ]
  }
 ],
 "metadata": {
  "kernelspec": {
   "display_name": "Python 3",
   "language": "python",
   "name": "python3"
  },
  "language_info": {
   "codemirror_mode": {
    "name": "ipython",
    "version": 3
   },
   "file_extension": ".py",
   "mimetype": "text/x-python",
   "name": "python",
   "nbconvert_exporter": "python",
   "pygments_lexer": "ipython3",
   "version": "3.7.1"
  }
 },
 "nbformat": 4,
 "nbformat_minor": 2
}
